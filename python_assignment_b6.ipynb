{
 "cells": [
  {
   "cell_type": "markdown",
   "id": "d2328cad",
   "metadata": {},
   "source": [
    "# Python Basics Assignment"
   ]
  },
  {
   "cell_type": "markdown",
   "id": "cb537954",
   "metadata": {},
   "source": [
    "### Question 1\n",
    "Write a function to compute number of vowels in a string given as input"
   ]
  },
  {
   "cell_type": "code",
   "execution_count": 29,
   "id": "cf213ba2",
   "metadata": {},
   "outputs": [
    {
     "name": "stdout",
     "output_type": "stream",
     "text": [
      "no: of vowels 3\n"
     ]
    }
   ],
   "source": [
    "# Your code here\n",
    "v={\"a\",\"e\",\"i\",\"o\",\"u\",\"A\",\"E\",\"I\",\"O\",\"U\"}\n",
    "a=input(\"enter a string :\")\n",
    "def your_function_1():\n",
    "    pass\n",
    "    count = 0\n",
    "    for char in a:\n",
    "        if char in v:\n",
    "            count+=1\n",
    "    return count\n",
    "vowel_len=your_function_1()\n",
    "print(\"no: of vowels\",vowel_len)\n",
    "\n",
    "   \n",
    " \n",
    "\n",
    "\n",
    "\n"
   ]
  },
  {
   "cell_type": "markdown",
   "id": "4eaff430",
   "metadata": {},
   "source": [
    "### Question 2\n",
    "Write a function that checks whether a number is prime."
   ]
  },
  {
   "cell_type": "code",
   "execution_count": 30,
   "id": "81934cf7",
   "metadata": {},
   "outputs": [
    {
     "name": "stdout",
     "output_type": "stream",
     "text": [
      "7 is a prime number\n"
     ]
    }
   ],
   "source": [
    "# Your code here\n",
    "num = int(input(\"Enter a number: \"))\n",
    "def your_function_2(n):   \n",
    "    if n <= 1:\n",
    "        return False\n",
    "\n",
    "    for i in range(2, n):\n",
    "        if n % i == 0:\n",
    "            return False\n",
    "    return True\n",
    "\n",
    " \n",
    "if your_function_2(num):\n",
    "    print(num, \"is a prime number\")\n",
    "else:\n",
    "    print(num, \"is not a prime number\")"
   ]
  },
  {
   "cell_type": "markdown",
   "id": "5f061e50",
   "metadata": {},
   "source": [
    "### Question 3\n",
    "Write a function to return the maximum of two numbers."
   ]
  },
  {
   "cell_type": "code",
   "execution_count": 31,
   "id": "44e2a596",
   "metadata": {},
   "outputs": [
    {
     "name": "stdout",
     "output_type": "stream",
     "text": [
      "8 is max\n"
     ]
    }
   ],
   "source": [
    "# Your code here\n",
    "a=int(input(\" enter number a:\"))\n",
    "b=int(input(\" enter number b:\"))\n",
    "\n",
    "def your_function_3():\n",
    "    pass\n",
    "if a>b:\n",
    "    print(a,\"is max\")\n",
    "else:\n",
    "    print(b,\"is max\")\n",
    "your_function_3()"
   ]
  },
  {
   "cell_type": "markdown",
   "id": "7513ca91",
   "metadata": {},
   "source": [
    "### Question 4\n",
    "Write a function to return the factorial of a number."
   ]
  },
  {
   "cell_type": "code",
   "execution_count": 32,
   "id": "6617842f",
   "metadata": {},
   "outputs": [
    {
     "name": "stdout",
     "output_type": "stream",
     "text": [
      "Factorial of the number is: 120\n"
     ]
    }
   ],
   "source": [
    "# Your code here\n",
    "def factorial(n):\n",
    "    if n==0 or n==1:\n",
    "        return 1\n",
    "    else:\n",
    "        return n*factorial(n-1)\n",
    "print(\"Factorial of the number is:\", factorial(5))\n"
   ]
  },
  {
   "cell_type": "markdown",
   "id": "9b942098",
   "metadata": {},
   "source": [
    "### Question 5\n",
    "Write a function to reverse a string without string indexing."
   ]
  },
  {
   "cell_type": "code",
   "execution_count": 33,
   "id": "ba6faaf3",
   "metadata": {},
   "outputs": [
    {
     "ename": "TypeError",
     "evalue": "'list' object is not callable",
     "output_type": "error",
     "traceback": [
      "\u001b[31m---------------------------------------------------------------------------\u001b[39m",
      "\u001b[31mTypeError\u001b[39m                                 Traceback (most recent call last)",
      "\u001b[36mCell\u001b[39m\u001b[36m \u001b[39m\u001b[32mIn[33]\u001b[39m\u001b[32m, line 7\u001b[39m\n\u001b[32m      5\u001b[39m     rev=\u001b[38;5;28mlist\u001b[39m(rev)\n\u001b[32m      6\u001b[39m     \u001b[38;5;28mprint\u001b[39m(\u001b[33m\"\u001b[39m\u001b[33mReversed string is:\u001b[39m\u001b[33m\"\u001b[39m,\u001b[33m'\u001b[39m\u001b[33m'\u001b[39m.join( rev))\n\u001b[32m----> \u001b[39m\u001b[32m7\u001b[39m \u001b[43myour_function_5\u001b[49m\u001b[43m(\u001b[49m\u001b[43m)\u001b[49m\n",
      "\u001b[36mCell\u001b[39m\u001b[36m \u001b[39m\u001b[32mIn[33]\u001b[39m\u001b[32m, line 5\u001b[39m, in \u001b[36myour_function_5\u001b[39m\u001b[34m()\u001b[39m\n\u001b[32m      3\u001b[39m n=\u001b[38;5;28minput\u001b[39m(\u001b[33m\"\u001b[39m\u001b[33mEnter a string: \u001b[39m\u001b[33m\"\u001b[39m)\n\u001b[32m      4\u001b[39m rev=\u001b[38;5;28mreversed\u001b[39m(n)\n\u001b[32m----> \u001b[39m\u001b[32m5\u001b[39m rev=\u001b[38;5;28;43mlist\u001b[39;49m\u001b[43m(\u001b[49m\u001b[43mrev\u001b[49m\u001b[43m)\u001b[49m\n\u001b[32m      6\u001b[39m \u001b[38;5;28mprint\u001b[39m(\u001b[33m\"\u001b[39m\u001b[33mReversed string is:\u001b[39m\u001b[33m\"\u001b[39m,\u001b[33m'\u001b[39m\u001b[33m'\u001b[39m.join( rev))\n",
      "\u001b[31mTypeError\u001b[39m: 'list' object is not callable"
     ]
    }
   ],
   "source": [
    " # Your code here\n",
    "def your_function_5():\n",
    "    n=input(\"Enter a string: \")\n",
    "    rev=reversed(n)\n",
    "    rev=list(rev)\n",
    "    print(\"Reversed string is:\",''.join( rev))\n",
    "your_function_5()"
   ]
  },
  {
   "cell_type": "markdown",
   "id": "1abd915b",
   "metadata": {},
   "source": [
    "### Question 6\n",
    "Write a function to check if a string is a palindrome."
   ]
  },
  {
   "cell_type": "code",
   "execution_count": null,
   "id": "2b868fb3",
   "metadata": {},
   "outputs": [
    {
     "name": "stdout",
     "output_type": "stream",
     "text": [
      "heyy is not a palindrome\n"
     ]
    }
   ],
   "source": [
    "s = input(\"Enter a string: \")\n",
    "\n",
    "def your_function_6(s):   \n",
    "    return s == s[::-1]\n",
    "\n",
    "if your_function_6(s):\n",
    "    print(s, \"is a palindrome\")\n",
    "else:\n",
    "    print(s, \"is not a palindrome\")\n",
    "\n"
   ]
  },
  {
   "cell_type": "markdown",
   "id": "5f2f3791",
   "metadata": {},
   "source": [
    "### Question 7\n",
    "Write a function to count vowels in a string."
   ]
  },
  {
   "cell_type": "code",
   "execution_count": null,
   "id": "73fefa50",
   "metadata": {},
   "outputs": [
    {
     "name": "stdout",
     "output_type": "stream",
     "text": [
      "no: of vowels 3\n"
     ]
    }
   ],
   "source": [
    "# Your code here\n",
    "v={\"a\",\"e\",\"i\",\"o\",\"u\",\"A\",\"E\",\"I\",\"O\",\"U\"}\n",
    "a=\"shadiya\"\n",
    "def your_function_1():\n",
    "    pass\n",
    "    count = 0\n",
    "    for char in a:\n",
    "        if char in v:\n",
    "            count+=1\n",
    "    return count\n",
    "vowel_len=your_function_1()\n",
    "print(\"no: of vowels\",vowel_len)\n",
    "\n",
    " \n",
    "\n"
   ]
  },
  {
   "cell_type": "markdown",
   "id": "0d3a9996",
   "metadata": {},
   "source": [
    "### Question 8\n",
    "Write a function that returns the sum of a list."
   ]
  },
  {
   "cell_type": "code",
   "execution_count": null,
   "id": "ab6afc66",
   "metadata": {},
   "outputs": [
    {
     "name": "stdout",
     "output_type": "stream",
     "text": [
      "15\n"
     ]
    }
   ],
   "source": [
    "# Your code here\n",
    " \n",
    "def your_function_8():\n",
    "     a=[1,2,3,4,5]\n",
    "     sum=0\n",
    "     for i in a:\n",
    "      sum+=i\n",
    "     print(sum)\n",
    "your_function_8()\n",
    "\n"
   ]
  },
  {
   "cell_type": "markdown",
   "id": "f6682500",
   "metadata": {},
   "source": [
    "### Question 9\n",
    "Write a function to find the smallest number in a list."
   ]
  },
  {
   "cell_type": "code",
   "execution_count": null,
   "id": "6798a641",
   "metadata": {},
   "outputs": [
    {
     "name": "stdout",
     "output_type": "stream",
     "text": [
      "Minimum number in the list is: 1\n"
     ]
    }
   ],
   "source": [
    " \n",
    "# Your code here\n",
    "def your_function_9():\n",
    "    n=[1,2,3,4,5,6,7]\n",
    "    a=min(n)\n",
    "    print(\"Minimum number in the list is:\", a)\n",
    "your_function_9()"
   ]
  },
  {
   "cell_type": "markdown",
   "id": "b1f5fd01",
   "metadata": {},
   "source": [
    "### Question 10\n",
    "Write a function to remove duplicates from a list."
   ]
  },
  {
   "cell_type": "code",
   "execution_count": null,
   "id": "7c53f88c",
   "metadata": {},
   "outputs": [
    {
     "name": "stdout",
     "output_type": "stream",
     "text": [
      "Duplicates removed : [1, 2, 3, 4, 5, 6, 7]\n"
     ]
    }
   ],
   "source": [
    " \n",
    "# Your code here\n",
    "def your_function_10():\n",
    "    n=[1,2,2,3,3,3,4,5,6,7,7]\n",
    "    a=set(n)\n",
    "    b=list(a)\n",
    "    print(\"Duplicates removed :\",b)\n",
    "your_function_10()\n"
   ]
  },
  {
   "cell_type": "markdown",
   "id": "9c380a5c",
   "metadata": {},
   "source": [
    "### Question 11\n",
    "Write a function to sort a list in ascending order without using builtin sort function"
   ]
  },
  {
   "cell_type": "code",
   "execution_count": null,
   "id": "8e43832f",
   "metadata": {},
   "outputs": [
    {
     "name": "stdout",
     "output_type": "stream",
     "text": [
      "Sorted list is: [1, 2, 5, 5, 6, 9]\n"
     ]
    }
   ],
   "source": [
    "# Your code here\n",
    " \n",
    "def sort():\n",
    "    n = [5, 2, 9, 1, 5, 6]\n",
    "    for i in range(len(n)):\n",
    "        for j in range(i + 1, len(n)):\n",
    "            if n[i] > n[j]:\n",
    "                n[i], n[j] = n[j], n[i]\n",
    "    print(\"Sorted list is:\", n)\n",
    "sort()\n"
   ]
  },
  {
   "cell_type": "markdown",
   "id": "1270c91c",
   "metadata": {},
   "source": [
    "### Question 12\n",
    "Write a function that returns the length of a string."
   ]
  },
  {
   "cell_type": "code",
   "execution_count": null,
   "id": "87f35472",
   "metadata": {},
   "outputs": [
    {
     "name": "stdout",
     "output_type": "stream",
     "text": [
      "Length of the string is: 3\n"
     ]
    }
   ],
   "source": [
    "# Your code here\n",
    "def your_function_12():\n",
    "    n=\"anu\"\n",
    "    l=len(n)\n",
    "    print(\"Length of the string is:\", l)\n",
    "your_function_12()"
   ]
  },
  {
   "cell_type": "markdown",
   "id": "9a8e3d28",
   "metadata": {},
   "source": [
    "### Question 13\n",
    "Write a function to count words in a sentence."
   ]
  },
  {
   "cell_type": "code",
   "execution_count": null,
   "id": "e6f996ef",
   "metadata": {},
   "outputs": [
    {
     "name": "stdout",
     "output_type": "stream",
     "text": [
      "Number of words: 2\n"
     ]
    }
   ],
   "source": [
    "# Your code here\n",
    "def your_function_13(sentence):\n",
    "    words = sentence.split()   \n",
    "    return len(words)          \n",
    "text = input(\"Enter a sentence: \")\n",
    "print(\"Number of words:\", your_function_13(text))"
   ]
  },
  {
   "cell_type": "markdown",
   "id": "430c2e4a",
   "metadata": {},
   "source": [
    "### Question 14\n",
    "Write a function to convert Celsius to Fahrenheit."
   ]
  },
  {
   "cell_type": "code",
   "execution_count": null,
   "id": "b710b0bd",
   "metadata": {},
   "outputs": [
    {
     "name": "stdout",
     "output_type": "stream",
     "text": [
      "Length of the string is: 6\n"
     ]
    }
   ],
   "source": [
    "# Your code here\n",
    "def your_function_14():\n",
    "    pass\n",
    "def your_function_12():\n",
    "    n=\"shazmi\"\n",
    "    l=len(n)\n",
    "    print(\"Length of the string is:\", l)\n",
    "your_function_12()"
   ]
  },
  {
   "cell_type": "markdown",
   "id": "acefe5e3",
   "metadata": {},
   "source": [
    "### Question 15\n",
    "Write a function to check if a number is palindrome."
   ]
  },
  {
   "cell_type": "code",
   "execution_count": null,
   "id": "b700abae",
   "metadata": {},
   "outputs": [
    {
     "name": "stdout",
     "output_type": "stream",
     "text": [
      "8 is a palindrome\n"
     ]
    }
   ],
   "source": [
    "def your_function_15(s):   \n",
    "    s = str(s)  \n",
    "    return s == s[::-1]\n",
    "\n",
    "s = int(input(\"Enter a number: \"))\n",
    "\n",
    "if your_function_15(s):\n",
    "    print(s, \"is a palindrome\")\n",
    "else:\n",
    "    print(s, \"is not a palindrome\")\n"
   ]
  },
  {
   "cell_type": "markdown",
   "id": "b63452cb",
   "metadata": {},
   "source": [
    "### Question 16\n",
    "Write a function to return all even numbers in a list."
   ]
  },
  {
   "cell_type": "code",
   "execution_count": null,
   "id": "9d1fc968",
   "metadata": {},
   "outputs": [
    {
     "name": "stdout",
     "output_type": "stream",
     "text": [
      "Even numbers in the list are: [2, 4, 6, 8, 10]\n"
     ]
    }
   ],
   "source": [
    "# Your code here\n",
    " \n",
    "def your_function_16():\n",
    "    n=[1,2,3,4,5,6,7,8,9,10]\n",
    "    print(\"Even numbers in the list are:\", [i for i in n if i % 2 == 0])\n",
    "your_function_16()"
   ]
  },
  {
   "cell_type": "markdown",
   "id": "aca524d9",
   "metadata": {},
   "source": [
    "### Question 17\n",
    "Write a function to return the nth Fibonacci number."
   ]
  },
  {
   "cell_type": "code",
   "execution_count": null,
   "id": "97dc4e87",
   "metadata": {},
   "outputs": [
    {
     "name": "stdout",
     "output_type": "stream",
     "text": [
      "Fibonacci number is: 21\n"
     ]
    }
   ],
   "source": [
    "# Your code here\n",
    "def your_function_17(n):\n",
    " \n",
    "    a = 0\n",
    "    b = 1\n",
    "    for i in range(n):\n",
    "        a, b = b, a + b\n",
    "    return a\n",
    "num = int(input(\"Enter n: \"))\n",
    "print(\"Fibonacci number is:\", your_function_17(num))"
   ]
  },
  {
   "cell_type": "markdown",
   "id": "29c847dc",
   "metadata": {},
   "source": [
    "### Question 18\n",
    "Write a function to calculate the average of a list."
   ]
  },
  {
   "cell_type": "code",
   "execution_count": null,
   "id": "9adc9fd2",
   "metadata": {},
   "outputs": [
    {
     "name": "stdout",
     "output_type": "stream",
     "text": [
      "Average is: 30.0\n"
     ]
    }
   ],
   "source": [
    "# Your code here\n",
    "def your_function_18(numbers):\n",
    "    pass\n",
    "    total = sum(numbers)\n",
    "    count = len(numbers)\n",
    "    return total / count\n",
    "list = [10, 20, 30, 40, 50]\n",
    "print(\"Average is:\", your_function_18(list))"
   ]
  },
  {
   "cell_type": "markdown",
   "id": "420240fb",
   "metadata": {},
   "source": [
    "### Question 19\n",
    "Write a function that returns a dictionary of character counts."
   ]
  },
  {
   "cell_type": "code",
   "execution_count": null,
   "id": "95cafc54",
   "metadata": {},
   "outputs": [],
   "source": [
    "# Your code here\n",
    "def your_function_19():\n",
    "    pass"
   ]
  },
  {
   "cell_type": "markdown",
   "id": "17629a07",
   "metadata": {},
   "source": [
    "### Question 20\n",
    "Write a function that returns True if all list elements are unique."
   ]
  },
  {
   "cell_type": "code",
   "execution_count": null,
   "id": "fe4f8820",
   "metadata": {},
   "outputs": [
    {
     "name": "stdout",
     "output_type": "stream",
     "text": [
      "All elements unique: True\n"
     ]
    }
   ],
   "source": [
    "# Your code here\n",
    "def your_function_20(lst):\n",
    "    return len(lst) == len(set(lst))\n",
    "list = [1, 2, 3, 4, 5]\n",
    "print(\"All elements unique:\",your_function_20(list))"
   ]
  },
  {
   "cell_type": "markdown",
   "id": "91dc87b9",
   "metadata": {},
   "source": [
    "### Question 21\n",
    "Write a function that returns dot product of two list of numbers"
   ]
  },
  {
   "cell_type": "code",
   "execution_count": null,
   "id": "87c3fa4b",
   "metadata": {},
   "outputs": [
    {
     "name": "stdout",
     "output_type": "stream",
     "text": [
      "Dot product is: 32\n"
     ]
    }
   ],
   "source": [
    "# Your code here\n",
    "def your_function_21(list1, list2):\n",
    "    result = 0\n",
    "    for i in range(len(list1)):\n",
    "        result += list1[i] * list2[i]\n",
    "    return result\n",
    "\n",
    "a = [1, 2, 3]\n",
    "b = [4, 5, 6]\n",
    "\n",
    "print(\"Dot product is:\", your_function_21(a, b))"
   ]
  },
  {
   "cell_type": "markdown",
   "id": "5eeb0527",
   "metadata": {},
   "source": [
    "### Question 22\n",
    "Write a function that returns the projection of vector a onto vector b. Both a and b are given as list of numbers"
   ]
  },
  {
   "cell_type": "code",
   "execution_count": null,
   "id": "d2c2439f",
   "metadata": {},
   "outputs": [],
   "source": [
    "# Your code here\n",
    "def your_function_22():\n",
    "    pass"
   ]
  },
  {
   "cell_type": "markdown",
   "id": "1410b385",
   "metadata": {},
   "source": [
    "### Question 23\n",
    "Write a function to return common elements between two lists."
   ]
  },
  {
   "cell_type": "code",
   "execution_count": 36,
   "id": "b0a43d44",
   "metadata": {},
   "outputs": [
    {
     "ename": "TypeError",
     "evalue": "'list' object is not callable",
     "output_type": "error",
     "traceback": [
      "\u001b[31m---------------------------------------------------------------------------\u001b[39m",
      "\u001b[31mTypeError\u001b[39m                                 Traceback (most recent call last)",
      "\u001b[36mCell\u001b[39m\u001b[36m \u001b[39m\u001b[32mIn[36]\u001b[39m\u001b[32m, line 5\u001b[39m\n\u001b[32m      3\u001b[39m a = [\u001b[32m1\u001b[39m, \u001b[32m2\u001b[39m, \u001b[32m3\u001b[39m, \u001b[32m5\u001b[39m]\n\u001b[32m      4\u001b[39m b = [\u001b[32m4\u001b[39m, \u001b[32m5\u001b[39m, \u001b[32m6\u001b[39m, \u001b[32m7\u001b[39m, \u001b[32m8\u001b[39m,\u001b[32m5\u001b[39m]\n\u001b[32m----> \u001b[39m\u001b[32m5\u001b[39m \u001b[38;5;28mprint\u001b[39m(\u001b[43mcommon_elements\u001b[49m\u001b[43m(\u001b[49m\u001b[43ma\u001b[49m\u001b[43m,\u001b[49m\u001b[43m \u001b[49m\u001b[43mb\u001b[49m\u001b[43m)\u001b[49m)\n",
      "\u001b[36mCell\u001b[39m\u001b[36m \u001b[39m\u001b[32mIn[36]\u001b[39m\u001b[32m, line 2\u001b[39m, in \u001b[36mcommon_elements\u001b[39m\u001b[34m(list1, list2)\u001b[39m\n\u001b[32m      1\u001b[39m \u001b[38;5;28;01mdef\u001b[39;00m\u001b[38;5;250m \u001b[39m\u001b[34mcommon_elements\u001b[39m(list1, list2):\n\u001b[32m----> \u001b[39m\u001b[32m2\u001b[39m     \u001b[38;5;28;01mreturn\u001b[39;00m \u001b[38;5;28;43mlist\u001b[39;49m\u001b[43m(\u001b[49m\u001b[38;5;28;43mset\u001b[39;49m\u001b[43m(\u001b[49m\u001b[43mlist1\u001b[49m\u001b[43m)\u001b[49m\u001b[43m \u001b[49m\u001b[43m&\u001b[49m\u001b[43m \u001b[49m\u001b[38;5;28;43mset\u001b[39;49m\u001b[43m(\u001b[49m\u001b[43mlist2\u001b[49m\u001b[43m)\u001b[49m\u001b[43m)\u001b[49m\n",
      "\u001b[31mTypeError\u001b[39m: 'list' object is not callable"
     ]
    }
   ],
   "source": [
    "def common_elements(list1, list2):\n",
    "    return list(set(list1) & set(list2))\n",
    "a = [1, 2, 3, 5]\n",
    "b = [4, 5, 6, 7, 8,5]\n",
    "print(common_elements(a, b))"
   ]
  },
  {
   "cell_type": "markdown",
   "id": "23ab5210",
   "metadata": {},
   "source": [
    "### Question 24\n",
    "Create a class Vector that supports addition, dot product, and magnitude."
   ]
  },
  {
   "cell_type": "code",
   "execution_count": null,
   "id": "f6b18fd7",
   "metadata": {},
   "outputs": [],
   "source": [
    "# Your code here\n",
    " \n",
    "def your_function_24():\n",
    "    pass\n",
    " "
   ]
  },
  {
   "cell_type": "markdown",
   "id": "a0621aba",
   "metadata": {},
   "source": [
    "### Question 25\n",
    "Implement a function to return all outliers in a list based on the IQR method."
   ]
  },
  {
   "cell_type": "code",
   "execution_count": null,
   "id": "460a8994",
   "metadata": {},
   "outputs": [],
   "source": [
    "# Your code here\n",
    "def your_function_25():\n",
    "    pass"
   ]
  },
  {
   "cell_type": "markdown",
   "id": "f0be510e",
   "metadata": {},
   "source": [
    "### Question 26\n",
    "Function with default arguments:\n",
    "Create a function to compute variance with an option to use sample or population formula"
   ]
  },
  {
   "cell_type": "code",
   "execution_count": null,
   "id": "941d732d",
   "metadata": {},
   "outputs": [],
   "source": [
    "# Your code here\n",
    "def your_function_26():\n",
    "    pass"
   ]
  },
  {
   "cell_type": "markdown",
   "id": "c39be0f1",
   "metadata": {},
   "source": [
    "### Question 27\n",
    "Create a list of squares of even numbers between 1 and 20 using list comprehension."
   ]
  },
  {
   "cell_type": "code",
   "execution_count": 35,
   "id": "9e4ba74a",
   "metadata": {},
   "outputs": [
    {
     "name": "stdout",
     "output_type": "stream",
     "text": [
      "Squares of even numbers from 1 to 20: [4, 16, 36, 64, 100, 144, 196, 256, 324, 400]\n"
     ]
    }
   ],
   "source": [
    "# Your code here\n",
    " \n",
    "squares = [x**2 for x in range(1, 21) if x % 2 == 0]\n",
    "print(\"Squares of even numbers from 1 to 20:\", squares)"
   ]
  },
  {
   "cell_type": "markdown",
   "id": "b43c266d",
   "metadata": {},
   "source": [
    "### Question 28\n",
    "Write a function that returns the L1 and L2 norms of a vector given as list"
   ]
  },
  {
   "cell_type": "code",
   "execution_count": null,
   "id": "4f5dc876",
   "metadata": {},
   "outputs": [],
   "source": [
    "# Your code here\n",
    "def your_function_28():\n",
    "    pass"
   ]
  },
  {
   "cell_type": "markdown",
   "id": "2007915f",
   "metadata": {},
   "source": [
    "### Question 29\n",
    "Write a function that computes the 95% confidence interval for the mean of a list of numbers assuming normal distribution."
   ]
  },
  {
   "cell_type": "code",
   "execution_count": null,
   "id": "8634dc63",
   "metadata": {},
   "outputs": [],
   "source": [
    "# Your code here\n",
    "def your_function_29():\n",
    "    pass"
   ]
  },
  {
   "cell_type": "markdown",
   "id": "08df3afb",
   "metadata": {},
   "source": [
    "### Question 30\n",
    "Given a list of categorical values, create a frequency distribution dictionary."
   ]
  },
  {
   "cell_type": "code",
   "execution_count": null,
   "id": "c9b88531",
   "metadata": {},
   "outputs": [],
   "source": [
    "# Your code here\n",
    "def your_function_30():\n",
    "    pass"
   ]
  }
 ],
 "metadata": {
  "kernelspec": {
   "display_name": "Python 3",
   "language": "python",
   "name": "python3"
  },
  "language_info": {
   "codemirror_mode": {
    "name": "ipython",
    "version": 3
   },
   "file_extension": ".py",
   "mimetype": "text/x-python",
   "name": "python",
   "nbconvert_exporter": "python",
   "pygments_lexer": "ipython3",
   "version": "3.13.4"
  }
 },
 "nbformat": 4,
 "nbformat_minor": 5
}
